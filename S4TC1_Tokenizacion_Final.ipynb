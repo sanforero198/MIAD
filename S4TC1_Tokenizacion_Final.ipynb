{
 "cells": [
  {
   "cell_type": "markdown",
   "metadata": {},
   "source": [
    "![image info](https://raw.githubusercontent.com/albahnsen/MIAD_ML_and_NLP/main/images/banner_1.png)"
   ]
  },
  {
   "cell_type": "markdown",
   "metadata": {},
   "source": [
    "# Taller: Tokenización de textos  \n",
    "\n",
    "En este taller podrán poner en práctica sus conocimientos sobre preprocesamiento de texto (tokenización). El taller está constituido por 5 puntos, en los cuales deberan seguir las intrucciones de cada numeral para su desarrollo."
   ]
  },
  {
   "cell_type": "markdown",
   "metadata": {},
   "source": [
    "## Datos detección de toxicidad en comentarios\n",
    "\n",
    "En este taller se usará el conjunto de datos de detección de toxicidad en comentarios de la base de datos de Kaggle. Cada observación es un comentario que tiene como variable objetivo (target) la probabilidad de ser un comentario tóxico. El objetivo es predecir la toxicidad de cada comentario. Para más detalles pueden visitar el siguiente enlace: [datos](https://www.kaggle.com/c/jigsaw-unintended-bias-in-toxicity-classification/data)."
   ]
  },
  {
   "cell_type": "code",
   "execution_count": 3,
   "metadata": {},
   "outputs": [],
   "source": [
    "import warnings\n",
    "warnings.filterwarnings('ignore')"
   ]
  },
  {
   "cell_type": "code",
   "execution_count": 1,
   "metadata": {},
   "outputs": [
    {
     "name": "stderr",
     "output_type": "stream",
     "text": [
      "[nltk_data] Downloading package stopwords to /home/jovyan/nltk_data...\n",
      "[nltk_data]   Unzipping corpora/stopwords.zip.\n"
     ]
    }
   ],
   "source": [
    "# Importación librerías\n",
    "import pandas as pd\n",
    "import numpy as np\n",
    "import scipy as sp\n",
    "from sklearn.model_selection import train_test_split, cross_val_score\n",
    "from sklearn.feature_extraction.text import CountVectorizer, TfidfVectorizer\n",
    "from sklearn import metrics\n",
    "%matplotlib inline\n",
    "from nltk.corpus import stopwords\n",
    "from sklearn.feature_extraction.text import CountVectorizer\n",
    "from sklearn.metrics import mean_squared_error\n",
    "import xgboost as xgb\n",
    "import nltk\n",
    "nltk.download('stopwords')\n",
    "import matplotlib.pyplot as plt"
   ]
  },
  {
   "cell_type": "code",
   "execution_count": 5,
   "metadata": {},
   "outputs": [
    {
     "data": {
      "text/html": [
       "<div>\n",
       "<style scoped>\n",
       "    .dataframe tbody tr th:only-of-type {\n",
       "        vertical-align: middle;\n",
       "    }\n",
       "\n",
       "    .dataframe tbody tr th {\n",
       "        vertical-align: top;\n",
       "    }\n",
       "\n",
       "    .dataframe thead th {\n",
       "        text-align: right;\n",
       "    }\n",
       "</style>\n",
       "<table border=\"1\" class=\"dataframe\">\n",
       "  <thead>\n",
       "    <tr style=\"text-align: right;\">\n",
       "      <th></th>\n",
       "      <th>id</th>\n",
       "      <th>comment_text</th>\n",
       "      <th>target</th>\n",
       "    </tr>\n",
       "  </thead>\n",
       "  <tbody>\n",
       "    <tr>\n",
       "      <th>0</th>\n",
       "      <td>6101457</td>\n",
       "      <td>What are you talking about? What group do Pete...</td>\n",
       "      <td>0.0</td>\n",
       "    </tr>\n",
       "    <tr>\n",
       "      <th>1</th>\n",
       "      <td>5342103</td>\n",
       "      <td>NO!, Let him, we need a Conservative government.</td>\n",
       "      <td>0.0</td>\n",
       "    </tr>\n",
       "    <tr>\n",
       "      <th>2</th>\n",
       "      <td>743361</td>\n",
       "      <td>Perhaps he took the \"power out of the Cardinal...</td>\n",
       "      <td>0.2</td>\n",
       "    </tr>\n",
       "    <tr>\n",
       "      <th>3</th>\n",
       "      <td>551008</td>\n",
       "      <td>As always, yours is dripping with sarcasm, whi...</td>\n",
       "      <td>0.0</td>\n",
       "    </tr>\n",
       "    <tr>\n",
       "      <th>4</th>\n",
       "      <td>865998</td>\n",
       "      <td>The dirty little secret is that the price rang...</td>\n",
       "      <td>0.3</td>\n",
       "    </tr>\n",
       "  </tbody>\n",
       "</table>\n",
       "</div>"
      ],
      "text/plain": [
       "        id                                       comment_text  target\n",
       "0  6101457  What are you talking about? What group do Pete...     0.0\n",
       "1  5342103   NO!, Let him, we need a Conservative government.     0.0\n",
       "2   743361  Perhaps he took the \"power out of the Cardinal...     0.2\n",
       "3   551008  As always, yours is dripping with sarcasm, whi...     0.0\n",
       "4   865998  The dirty little secret is that the price rang...     0.3"
      ]
     },
     "execution_count": 5,
     "metadata": {},
     "output_type": "execute_result"
    }
   ],
   "source": [
    "# Carga de datos de archivos .csv\n",
    "df = pd.read_csv('https://raw.githubusercontent.com/albahnsen/MIAD_ML_and_NLP/main/datasets/Toxicity.zip')\n",
    "df = df[['id','comment_text', 'target']]\n",
    "df.head()"
   ]
  },
  {
   "cell_type": "code",
   "execution_count": 6,
   "metadata": {},
   "outputs": [
    {
     "data": {
      "text/plain": [
       "(541462, 3)"
      ]
     },
     "execution_count": 6,
     "metadata": {},
     "output_type": "execute_result"
    }
   ],
   "source": [
    "df.shape"
   ]
  },
  {
   "cell_type": "code",
   "execution_count": 7,
   "metadata": {},
   "outputs": [
    {
     "data": {
      "text/plain": [
       "<Axes: >"
      ]
     },
     "execution_count": 7,
     "metadata": {},
     "output_type": "execute_result"
    },
    {
     "data": {
      "image/png": "[encoded data removed]",
      "text/plain": [
       "<Figure size 640x480 with 1 Axes>"
      ]
     },
     "metadata": {},
     "output_type": "display_data"
    }
   ],
   "source": [
    "# Impresión histograma de variable de interés (y)\n",
    "df.target.hist()"
   ]
  },
  {
   "cell_type": "code",
   "execution_count": 8,
   "metadata": {},
   "outputs": [
    {
     "data": {
      "text/plain": [
       "count    541462.000000\n",
       "mean          0.102991\n",
       "std           0.196979\n",
       "min           0.000000\n",
       "25%           0.000000\n",
       "50%           0.000000\n",
       "75%           0.166667\n",
       "max           1.000000\n",
       "Name: target, dtype: float64"
      ]
     },
     "execution_count": 8,
     "metadata": {},
     "output_type": "execute_result"
    }
   ],
   "source": [
    "# Separación de variable de interés (y)\n",
    "y = df.target\n",
    "y.describe()"
   ]
  },
  {
   "cell_type": "code",
   "execution_count": 9,
   "metadata": {},
   "outputs": [],
   "source": [
    "# Separación de variables predictoras (X), solo se considera el texto de la noticia\n",
    "X = df.comment_text"
   ]
  },
  {
   "cell_type": "code",
   "execution_count": 10,
   "metadata": {},
   "outputs": [],
   "source": [
    "# Separación de datos en set de entrenamiento y test\n",
    "X_train, X_test, y_train, y_test = train_test_split(X, y, test_size=0.33, random_state=42)"
   ]
  },
  {
   "cell_type": "markdown",
   "metadata": {},
   "source": [
    "## Punto 1 - Tokenización con CountVectorizer\n",
    "\n",
    "En la celda 1 creen y entrenen el modelo de regresión de su preferencia, para que prediga la probabilidad de que un comentario sea tóxico, usando los set de entrenamiento y test definidos anteriormente. Usen la función **CountVectorizer** para preprocesar los comentarios y presenten el desempeño del modelo con la métrica del MSE.\n",
    "\n",
    "Recuerden que el preprocesamiento que se haga sobre los datos de entrenamiento  (*.fit_transform()*) deben ser aplicado al set de test (*.transform()*)."
   ]
  },
  {
   "cell_type": "code",
   "execution_count": 11,
   "metadata": {},
   "outputs": [
    {
     "name": "stdout",
     "output_type": "stream",
     "text": [
      "MSE: 0.02201025405564129\n"
     ]
    }
   ],
   "source": [
    "# Celda 1\n",
    "\n",
    "stop_words = set(stopwords.words('english'))\n",
    "\n",
    "# Crear una instancia de CountVectorizer\n",
    "vectorizer = CountVectorizer(stop_words=list(stop_words))\n",
    "\n",
    "# Ajustar y transformar los comentarios\n",
    "X_train_countv = vectorizer.fit_transform(X_train)\n",
    "X_test_countv = vectorizer.transform(X_test)\n",
    "\n",
    "# Entrenar un modelo de bosque aleatorio\n",
    "model = xgb.XGBRegressor(njobs=-1) # tree_method='gpu_hist'\n",
    "model.fit(X_train_countv, y_train)\n",
    "\n",
    "# Evaluar el modelo\n",
    "y_pred = model.predict(X_test_countv)\n",
    "mse_countv = mean_squared_error(y_test, y_pred)  \n",
    "print('MSE:', mse_countv)"
   ]
  },
  {
   "cell_type": "markdown",
   "metadata": {},
   "source": [
    "## Punto 2 - Tokenización con CountVectorizer y trigramas\n",
    "\n",
    "En la celda 2 creen y entrenen el mismo modelo de regresión del punto anterior (es decir si usaron un RandomForestRegresor usen nuevamente ese regresor), para que prediga la probabilidad de que un comentario sea tóxico, usando los set de entrenamiento y test definidos anteriormente. Usen la función CountVectorizer **considerando trigramas** para preprocesar los comentarios y presenten el desempeño del modelo con la métrica del MSE.\n",
    "\n",
    "Recuerden que el preprocesamiento que se haga sobre los datos de entrenamiento  (*.fit_transform()*) deben ser aplicado al set de test (*.transform()*)."
   ]
  },
  {
   "cell_type": "code",
   "execution_count": 12,
   "metadata": {},
   "outputs": [
    {
     "name": "stdout",
     "output_type": "stream",
     "text": [
      "MSE: 0.025561189125383188\n"
     ]
    }
   ],
   "source": [
    "# Celda 2\n",
    "# Definir la lista de stopwords\n",
    "stop_words = set(stopwords.words('english'))\n",
    "\n",
    "# Crear un objeto CountVectorizer con n-gramas de tamaño 1-2 en lugar de 1-3\n",
    "vectorizer = CountVectorizer(ngram_range=(1, 2), stop_words=list(stop_words))\n",
    "\n",
    "# Ajustar y transformar los comentarios\n",
    "X_train_countvtrig = vectorizer.fit_transform(X_train)\n",
    "X_test_countvtrig = vectorizer.transform(X_test)\n",
    "\n",
    "# Reducir la dimensionalidad con PCA\n",
    "# from sklearn.decomposition import PCA\n",
    "# pca = PCA(n_components=100)  # Reducir a 100 componentes\n",
    "# X_train_countvtrig_pca = pca.fit_transform(X_train_countvtrig.toarray())\n",
    "# X_test_countvtrig_pca = pca.transform(X_test_countvtrig.toarray())\n",
    "\n",
    "# Entrenar un modelo de bosque aleatorio con hiperparámetros controlados\n",
    "model = xgb.XGBRegressor(n_estimators=100, max_depth=5, learning_rate=0.1, n_jobs=-1)\n",
    "model.fit(X_train_countvtrig, y_train)\n",
    "\n",
    "# Evaluar el modelo\n",
    "y_pred = model.predict(X_test_countvtrig)\n",
    "mse_countvtrig = mean_squared_error(y_test, y_pred)\n",
    "print('MSE:', mse_countvtrig)"
   ]
  },
  {
   "cell_type": "markdown",
   "metadata": {},
   "source": [
    "## Punto 3 - TfidfVectorizer\n",
    "\n",
    "Investigen sobre la función TfidfVectorizer. En la celda de texto 3, expliquen en qué consiste esta técnica de tokenización (describanla y expliquen su funcionamiento) y cúales son las ventajas o deventajas de su uso al compararlo con la función CountVectorizer."
   ]
  },
  {
   "cell_type": "markdown",
   "metadata": {},
   "source": [
    "## Celda 3\n",
    "Según la página de Scikit-learn, la función TfidfVectorizer es una herramienta o medida estadística que evalúa la importancia de una palabra en un texto en relación a un conjunto de textos.\n",
    "\n",
    "Esta función se divide en dos partes:\n",
    "\n",
    "1. TF se refiere a Term Frequency, que se encarga de medir la frecuencia con la que cada palabra aparece en un texto en comparación a la cantidad total de palabras de éste. Entre mayor sea la frecuencia, mayor será el puntaje TF para una palabra específica.\n",
    "\n",
    "2. IDF se refiere a Inverse Document Frequency, que se encarga de medir la frecuencia con la que cada palabra aparece a través de todos los textos del conjunto. Entre mayor sea la frecuencia, mayor será el puntaje IDF para una palabra específica.\n",
    "\n",
    "En conjunto, la función TfidfVectorizer combina ambos valores y se asignan a una matriz en la que cada fila es un texto y cada columna es una palabra de éste. De este modo, cada palabra tendrá un peso ponderado por TD-IDF que representará su importancia y será útil a la hora de clasificar y agrupar textos.\n",
    "\n",
    "Por otro lado, la función CountVectorizer es muy parecida en cuanto a la primera parte de TfidfVectorizer. Sin embargo, esta función no considera la importancia relativa de las palabras en un texto con respecto a otros textos. Es decir, la función construye una matriz de textos y palabras con pesos de importancia relativos al mismo texto, ignorando la importancia global de las palabras.\n",
    "\n",
    "Por estas razones, la función TfidfVectorizer puede ser mejor para clasificar textos, pues ésta considera la importancia relativa de las palabras y reduce el impacto de palabras muy frecuentes que pueden no ser informativas al ser muy persistentes a través de todos los textos (como conectores). No obstante, TfidfVectorizer puede tener problemas si el conjunto de textos es muy reducido ya que la distribución de las palabras no será representativa, lo que puede causar valores IDF imprecisos. Adicionalmente, teniendo en cuenta que TfidfVectorizer le da menos peso a palabras con alta frecuencia absoluta, se puede perder información valiosa a cambio de considerar palabras con mayor rareza. Es decir, en casos en los que se desea dar más importancia a la frecuencia absoluta de las palabras, quizás sea más conveniente usar CountVectorizer. Finalmente, TfidfVectorizer es una función más compleja que CountVectorizer, por lo que requiere una optimización y calibración más cuidadosa para obtener los resultados deseados.\n",
    "\n",
    "\n",
    "Fuentes: https://scikit-learn.org/stable/modules/generated/sklearn.feature_extraction.text.TfidfVectorizer.html, https://scikit-learn.org/stable/modules/generated/sklearn.feature_extraction.text.CountVectorizer.html\n"
   ]
  },
  {
   "cell_type": "markdown",
   "metadata": {},
   "source": [
    "## Punto 4 - Tokenización con TfidfVectorizer\n",
    "\n",
    "En la celda 4 creen y entrenen el mismo modelo de regresión del primer punto, para que prediga la probabilidad de que un comentario sea tóxico, usando los set de entrenamiento y test definidos anteriormente. Procesen los comentarios con la función **TfidfVectorizer** y presenten el desempeño del modelo con la métrica del MSE.\n",
    "\n",
    "Recuerden que el preprocesamiento que se haga sobre los datos de entrenamiento  (*.fit_transform()*) deben ser aplicado al set de test (*.transform()*)."
   ]
  },
  {
   "cell_type": "code",
   "execution_count": 13,
   "metadata": {},
   "outputs": [
    {
     "name": "stdout",
     "output_type": "stream",
     "text": [
      "MSE: 0.02046005207953327\n"
     ]
    }
   ],
   "source": [
    "# Celda 4\n",
    "# Crear el vectorizador TfidfVectorizer\n",
    "tfidf_vectorizer = TfidfVectorizer(ngram_range=(1, 1), stop_words=list(stop_words))\n",
    "\n",
    "# Aplicar el vectorizador a los comentarios de entrenamiento y test\n",
    "X_train_tfidf = tfidf_vectorizer.fit_transform(X_train)\n",
    "X_test_tfidf = tfidf_vectorizer.transform(X_test)\n",
    "\n",
    "# Crear el modelo de regresión y entrenarlo\n",
    "model_tfidf = xgb.XGBRegressor(njobs=-1) # tree_method='gpu_hist'\n",
    "model_tfidf.fit(X_train_tfidf, y_train)\n",
    "\n",
    "# Realizar predicciones en los datos de entrenamiento y test\n",
    "y_pred_test_tfidf = model_tfidf.predict(X_test_tfidf)\n",
    "\n",
    "# Calcular el MSE en los datos de entrenamiento y test\n",
    "mse_tfidfvectorizer = mean_squared_error(y_test, y_pred_test_tfidf)\n",
    "\n",
    "# Imprimir los resultados\n",
    "print(\"MSE:\", mse_tfidfvectorizer)"
   ]
  },
  {
   "cell_type": "markdown",
   "metadata": {},
   "source": [
    "## Punto 5 - Comparación y análisis de resultados\n",
    "\n",
    "En la celda 5 comparen los resultados obtenidos de los diferentes modelos y comenten cómo el preprocesamiento de texto afecta el desempeño."
   ]
  },
  {
   "cell_type": "code",
   "execution_count": 5,
   "metadata": {},
   "outputs": [
    {
     "data": {
      "image/png": "[encoded data removed]",
      "text/plain": [
       "<Figure size 432x288 with 1 Axes>"
      ]
     },
     "metadata": {
      "needs_background": "light"
     },
     "output_type": "display_data"
    }
   ],
   "source": [
    "# Celda 5\n",
    "##Comparación de MSE\n",
    "fig = plt.figure()\n",
    "ax = fig.add_axes([0,0,1,1])\n",
    "ax.set_title(\"Comparación de modelos por MSE\")\n",
    "ejeX = ['CountVectorizer','CountVectorizer y trigramas' ,'Tokenización con TfidfVectorizer']\n",
    "ejeY = [mse_countv,mse_countvtrig,mse_tfidfvectorizer]\n",
    "ax.bar(ejeX,ejeY)\n",
    "def addlabels(x,y,plotP):\n",
    "    for i in range(len(x)):\n",
    "        plotP.text(i,y[i],y[i])\n",
    "addlabels(ejeX,ejeY,plt)\n",
    "plt.show()"
   ]
  },
  {
   "cell_type": "markdown",
   "metadata": {},
   "source": [
    "Como se puede ver, el modelo de Tokenización con CountVectorizer y trigramas tiene un mejor desempeño, mientras que Tokenización con TfidfVectorizer tiene el menor desempeño. Esto puede deberse a que TfidfVectorizer excluye palabras muy frecuentes que pueden ser relevantes para clasificar los comentarios."
   ]
  }
 ],
 "metadata": {
  "kernelspec": {
   "display_name": "Python 3",
   "language": "python",
   "name": "python3"
  },
  "language_info": {
   "codemirror_mode": {
    "name": "ipython",
    "version": 3
   },
   "file_extension": ".py",
   "mimetype": "text/x-python",
   "name": "python",
   "nbconvert_exporter": "python",
   "pygments_lexer": "ipython3",
   "version": "3.7.6"
  },
  "name": "_merged"
 },
 "nbformat": 4,
 "nbformat_minor": 4
}
